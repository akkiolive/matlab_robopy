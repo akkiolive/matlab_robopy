{
 "cells": [
  {
   "cell_type": "code",
   "execution_count": 60,
   "metadata": {},
   "outputs": [
    {
     "name": "stdout",
     "output_type": "stream",
     "text": [
      "('MATLAB_10040',)\n"
     ]
    }
   ],
   "source": [
    "import matlab.engine\n",
    "\n",
    "# Execute 'matlab.engine.shareEngine' command in MATLAB before connecting shared matlab engine\n",
    "\n",
    "# find matlab shared engine. \n",
    "eng_names = matlab.engine.find_matlab()\n",
    "print(eng_names)"
   ]
  },
  {
   "cell_type": "code",
   "execution_count": 63,
   "metadata": {},
   "outputs": [
    {
     "name": "stdout",
     "output_type": "stream",
     "text": [
      "Quit MATLAB connecting...\n",
      "Connecting to matlab...\n",
      "{'_matlab': 9, 'workspace': }\n"
     ]
    }
   ],
   "source": [
    "# MATLAB\n",
    "try:\n",
    "    print(\"Quit MATLAB connection...\")\n",
    "    eng.quit()\n",
    "except:\n",
    "    pass\n",
    "if len(eng_names) == 0:\n",
    "    print(\"Starting new matlab...\")\n",
    "    eng = matlab.engine.start_matlab()\n",
    "else:\n",
    "    # connect shared matlab engine\n",
    "    print(\"Connecting to matlab...\")\n",
    "    eng = matlab.engine.connect_matlab()\n",
    "\n",
    "# connected\n",
    "print(eng.__dict__)\n",
    "\n",
    "# set workspace variables\n",
    "import random\n",
    "random_number = random.random()\n",
    "eng.workspace[\"random_number\"] = random_number\n",
    "eng.workspace[\"python_connected\"] = True"
   ]
  },
  {
   "cell_type": "code",
   "execution_count": 57,
   "metadata": {},
   "outputs": [],
   "source": [
    "# new system name\n",
    "target_system_name = \"example1\"\n",
    "target_system_filename = target_system_name + \".slx\"\n",
    "\n",
    "# copy blank file\n",
    "eng.copyfile(\"blank.slx\", target_system_filename)\n",
    "\n",
    "# load system\n",
    "target_system_handle = eng.load_system(target_system_name)"
   ]
  },
  {
   "cell_type": "code",
   "execution_count": 52,
   "metadata": {},
   "outputs": [],
   "source": [
    "# open system\n",
    "eng.open_system(target_system_name, nargout=0)"
   ]
  },
  {
   "cell_type": "code",
   "execution_count": 58,
   "metadata": {},
   "outputs": [
    {
     "data": {
      "text/plain": [
       "1863.002685546875"
      ]
     },
     "execution_count": 58,
     "metadata": {},
     "output_type": "execute_result"
    }
   ],
   "source": [
    "# add a constant block\n",
    "eng.add_block(\"simulink/Sources/Constant\", eng.bdroot() + \"/\" + \"Constant\", \"MakeNameUnique\", \"on\")"
   ]
  },
  {
   "cell_type": "code",
   "execution_count": 44,
   "metadata": {},
   "outputs": [
    {
     "data": {
      "text/plain": [
       "1857.003173828125"
      ]
     },
     "execution_count": 44,
     "metadata": {},
     "output_type": "execute_result"
    }
   ],
   "source": []
  },
  {
   "cell_type": "code",
   "execution_count": null,
   "metadata": {},
   "outputs": [],
   "source": []
  },
  {
   "cell_type": "code",
   "execution_count": 54,
   "metadata": {},
   "outputs": [],
   "source": [
    "print(\"Quit MATLAB connection...\")\n",
    "eng.quit()"
   ]
  }
 ],
 "metadata": {
  "interpreter": {
   "hash": "34fd958728ab3510b92540fe1f597ede1891a80f60825926686c4d8293495df0"
  },
  "kernelspec": {
   "display_name": "Python 3.6.8 64-bit",
   "language": "python",
   "name": "python3"
  },
  "language_info": {
   "codemirror_mode": {
    "name": "ipython",
    "version": 3
   },
   "file_extension": ".py",
   "mimetype": "text/x-python",
   "name": "python",
   "nbconvert_exporter": "python",
   "pygments_lexer": "ipython3",
   "version": "3.6.8"
  },
  "orig_nbformat": 4
 },
 "nbformat": 4,
 "nbformat_minor": 2
}
